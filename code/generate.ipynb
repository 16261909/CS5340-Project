{
 "cells": [
  {
   "cell_type": "code",
   "id": "initial_id",
   "metadata": {
    "collapsed": true,
    "ExecuteTime": {
     "end_time": "2024-04-13T19:10:20.837257Z",
     "start_time": "2024-04-13T19:10:20.833894Z"
    }
   },
   "source": [
    "%load_ext autoreload\n",
    "%autoreload 1"
   ],
   "execution_count": 5,
   "outputs": [
    {
     "name": "stdout",
     "output_type": "stream",
     "text": [
      "The autoreload extension is already loaded. To reload it, use:\n",
      "  %reload_ext autoreload\n"
     ]
    }
   ]
  },
  {
   "metadata": {
    "ExecuteTime": {
     "end_time": "2024-04-13T19:10:20.861604Z",
     "start_time": "2024-04-13T19:10:20.845046Z"
    }
   },
   "cell_type": "code",
   "source": "from utilities import *",
   "id": "c08c9eeae3612f4f",
   "outputs": [],
   "execution_count": 6
  },
  {
   "metadata": {
    "ExecuteTime": {
     "end_time": "2024-04-13T19:10:20.872694Z",
     "start_time": "2024-04-13T19:10:20.862487Z"
    }
   },
   "cell_type": "code",
   "source": [
    "train_imageset_path = '../trainval/DAVIS/ImageSets/2017/train.txt'\n",
    "val_imageset_path = '../trainval/DAVIS/ImageSets/2017/val.txt'\n",
    "testd_imageset_path = '../testd/DAVIS/ImageSets/2017/test-dev.txt'\n",
    "\n",
    "train_flow_root = '../flow/trainval/'\n",
    "testd_flow_root = '../flow/test/'\n",
    "result_root = '../result/mrf/'\n",
    "trainval_image_root = '../trainval/DAVIS/JPEGImages/480p/'\n",
    "trainval_mask_root = '../trainval/DAVIS/Annotations/480p/'\n",
    "testd_image_root = '../testd/DAVIS/JPEGImages/480p/'\n",
    "testd_mask_root = '../testd/DAVIS/Annotations/480p/'\n",
    "rough_annotation_root = '../rough_annotation/osvos/'\n",
    "models_root = '../models/'\n",
    "gif_root = '../gif/'\n",
    "\n",
    "train_list = []\n",
    "val_list = []\n",
    "testd_list = []\n",
    "\n",
    "with open(train_imageset_path, 'r') as f:\n",
    "    for line in f:\n",
    "        train_list.append(line.strip())\n",
    "with open(val_imageset_path, 'r') as f:\n",
    "    for line in f:\n",
    "        val_list.append(line.strip())\n",
    "with open(testd_imageset_path, 'r') as f:\n",
    "    for line in f:\n",
    "        testd_list.append(line.strip())"
   ],
   "id": "7bb66c8dcc27fab6",
   "outputs": [],
   "execution_count": 7
  },
  {
   "metadata": {
    "ExecuteTime": {
     "end_time": "2024-04-13T19:10:36.768402Z",
     "start_time": "2024-04-13T19:10:20.873349Z"
    }
   },
   "cell_type": "code",
   "source": [
    "p = 7\n",
    "generate_gif(os.path.join(trainval_image_root, val_list[p] + '/'), os.path.join(trainval_mask_root, val_list[p] + '/'), '../result/mrf_e_t_s/' + val_list[p] + '/', gif_root + 'mrf_e_t_s_'+ val_list[p] + '.gif' ) \n",
    "\n",
    "generate_gif(os.path.join(trainval_image_root, val_list[p] + '/'), os.path.join(trainval_mask_root, val_list[p] + '/'), '../result/mrf_e_t/' + val_list[p] + '/', gif_root + 'mrf_e_t_'+ val_list[p] + '.gif' ) \n",
    "\n",
    "generate_gif(os.path.join(trainval_image_root, val_list[p] + '/'), os.path.join(trainval_mask_root, val_list[p] + '/'), '../result/mrf_t/' + val_list[p] + '/', gif_root + 'mrf_t_'+ val_list[p] + '.gif' ) \n",
    "\n",
    "generate_gif(os.path.join(trainval_image_root, val_list[p] + '/'), os.path.join(trainval_mask_root, val_list[p] + '/'), '../result/mrf_e/' + val_list[p] + '/', gif_root + 'mrf_e_'+ val_list[p] + '.gif' ) \n",
    "\n",
    "generate_result('../result/mrf_e/' + val_list[p] + '/', '../result/mrf_e_t/' + val_list[p] + '/', '../result/mrf_e_t_s/' + val_list[p] + '/', gif_root + 'result_'+ val_list[p] + '.gif')"
   ],
   "id": "22d9855fbf5978e8",
   "outputs": [],
   "execution_count": 8
  }
 ],
 "metadata": {
  "kernelspec": {
   "display_name": "Python (cs5340)",
   "language": "python",
   "name": "cs5340"
  },
  "language_info": {
   "codemirror_mode": {
    "name": "ipython",
    "version": 2
   },
   "file_extension": ".py",
   "mimetype": "text/x-python",
   "name": "python",
   "nbconvert_exporter": "python",
   "pygments_lexer": "ipython2",
   "version": "2.7.6"
  }
 },
 "nbformat": 4,
 "nbformat_minor": 5
}

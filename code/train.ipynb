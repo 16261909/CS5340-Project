{
 "cells": [
  {
   "cell_type": "code",
   "id": "initial_id",
   "metadata": {
    "collapsed": true,
    "jupyter": {
     "outputs_hidden": true
    },
    "ExecuteTime": {
     "end_time": "2024-04-13T15:29:19.883264Z",
     "start_time": "2024-04-13T15:29:19.873649Z"
    }
   },
   "source": [
    "%load_ext autoreload\n",
    "%autoreload 1"
   ],
   "outputs": [],
   "execution_count": 1
  },
  {
   "cell_type": "code",
   "id": "41dd60fbba14db27",
   "metadata": {
    "ExecuteTime": {
     "end_time": "2024-04-13T15:29:21.198319Z",
     "start_time": "2024-04-13T15:29:19.884195Z"
    }
   },
   "source": [
    "import os\n",
    "from time import sleep\n",
    "\n",
    "import matplotlib.pyplot as plt\n",
    "import cv2\n",
    "import numpy as np\n",
    "import random\n",
    "import torch\n",
    "import torch.nn as nn\n",
    "import torch.nn.functional as F\n",
    "from torchvision import transforms\n",
    "from torch.utils.data import DataLoader, Dataset\n",
    "import PIL.Image as Image\n",
    "\n",
    "from dataset import *\n",
    "from utilities import *\n",
    "from resnet import *\n",
    "from config import *"
   ],
   "outputs": [
    {
     "name": "stderr",
     "output_type": "stream",
     "text": [
      "/home/stevenzhang/miniconda3/envs/vnn/lib/python3.10/site-packages/torchvision/transforms/transforms.py:332: UserWarning: Argument 'interpolation' of type int is deprecated since 0.13 and will be removed in 0.15. Please use InterpolationMode enum.\n",
      "  warnings.warn(\n",
      "/home/stevenzhang/miniconda3/envs/vnn/lib/python3.10/site-packages/torchvision/transforms/transforms.py:1435: UserWarning: Argument 'interpolation' of type int is deprecated since 0.13 and will be removed in 0.15. Please use InterpolationMode enum.\n",
      "  warnings.warn(\n"
     ]
    }
   ],
   "execution_count": 2
  },
  {
   "cell_type": "code",
   "id": "8f275ff0803b583",
   "metadata": {
    "ExecuteTime": {
     "end_time": "2024-04-13T15:29:21.201350Z",
     "start_time": "2024-04-13T15:29:21.199192Z"
    }
   },
   "source": [
    "color_to_gray_map, gray_to_color_map = None, None"
   ],
   "outputs": [],
   "execution_count": 3
  },
  {
   "cell_type": "code",
   "id": "503142796444025a",
   "metadata": {
    "ExecuteTime": {
     "end_time": "2024-04-13T15:29:21.222029Z",
     "start_time": "2024-04-13T15:29:21.202261Z"
    }
   },
   "source": [
    "np.random.seed(0)\n",
    "train_imageset_path = '../trainval/DAVIS/ImageSets/2017/train.txt'\n",
    "val_imageset_path = '../trainval/DAVIS/ImageSets/2017/val.txt'\n",
    "testd_imageset_path = '../testd/DAVIS/ImageSets/2017/test-dev.txt'\n",
    "trainval_image_root = '../trainval/DAVIS/JPEGImages/480p/'\n",
    "trainval_mask_root = '../trainval/DAVIS/Annotations/480p/'\n",
    "testd_image_root = '../testd/DAVIS/JPEGImages/480p/'\n",
    "testd_mask_root = '../testd/DAVIS/Annotations/480p/'\n",
    "models_root = '../models/'\n",
    "\n",
    "train_list = []\n",
    "val_list = []\n",
    "test_list = []\n",
    "\n",
    "with open(train_imageset_path, 'r') as f:\n",
    "    for line in f:\n",
    "        train_list.append(line.strip())\n",
    "with open(val_imageset_path, 'r') as f:\n",
    "    for line in f:\n",
    "        val_list.append(line.strip())\n",
    "with open(testd_imageset_path, 'r') as f:\n",
    "    for line in f:\n",
    "        test_list.append(line.strip())\n"
   ],
   "outputs": [],
   "execution_count": 4
  },
  {
   "cell_type": "code",
   "id": "66f9647f8b7d7358",
   "metadata": {
    "ExecuteTime": {
     "end_time": "2024-04-13T15:29:21.238551Z",
     "start_time": "2024-04-13T15:29:21.222729Z"
    }
   },
   "source": [
    "def train(image_root, mask_root, target_list):\n",
    "\n",
    "    for t in range(len(target_list)):\n",
    "        if t != 0:\n",
    "            continue\n",
    "        print(target_list[t])\n",
    "        image_path = os.path.join(image_root, target_list[t] + '/00000.jpg')\n",
    "        mask_path = os.path.join(mask_root, target_list[t] + '/00000.png')\n",
    "        model_save_path = os.path.join(models_root, target_list[t] + '.pt')\n",
    "    \n",
    "        image = cv2.imread(image_path)\n",
    "        mask = cv2.imread(mask_path)\n",
    "        PIL_mask = Image.open(mask_path)\n",
    "        color_to_gray_map, gray_to_color_map = get_map(mask, PIL_mask)\n",
    "        del PIL_mask\n",
    "        \n",
    "        image = cv2.resize(image, Resize, interpolation=cv2.INTER_NEAREST)\n",
    "        mask = cv2.resize(mask, Resize, interpolation=cv2.INTER_NEAREST)\n",
    "        mask = convert_to_gray_mask(mask, color_to_gray_map)\n",
    "        print('type_cnt:', len(color_to_gray_map))\n",
    "    \n",
    "        model = MyResNet(len(color_to_gray_map)).to(device)\n",
    "        train_dataset = CustomDataset(image_path, mask_path, image_transform=train_image_transforms, mask_transform=train_mask_transforms, num_samples=augmentation_num)\n",
    "        train_dataloader = DataLoader(train_dataset, batch_size=batch_size, shuffle=True)\n",
    "    \n",
    "        val_dataset = CustomDataset(image_path, mask_path, image_transform=val_image_transforms, mask_transform=val_mask_transforms, num_samples=1)\n",
    "        val_dataloader = DataLoader(val_dataset, batch_size=1, shuffle=False)\n",
    "    \n",
    "        opt = torch.optim.Adam(model.parameters(), lr=learning_rate)\n",
    "        sch = torch.optim.lr_scheduler.StepLR(opt, step_size=step_size, gamma=gamma)\n",
    "    \n",
    "        for i in range(train_epoch):\n",
    "            print('epoch:', i)\n",
    "            model.train()\n",
    "            for image, mask in train_dataloader:\n",
    "                mask = (mask * 255).long()\n",
    "                input = torch.cat((image, mask), dim=1).to(device)\n",
    "                output_mask = torch.argmax(model(input), dim=1)\n",
    "                output = model(input)\n",
    "                loss = F.cross_entropy(output, input[:, 3, :, :].long())\n",
    "                # print(loss.item(), torch.sum(output_mask == torch.tensor(input[:, 3, :, :]).to(device)).item() / (224 * 224) / batch_size)\n",
    "    \n",
    "                opt.zero_grad()\n",
    "                loss.backward()\n",
    "                opt.step()\n",
    "                sch.step()\n",
    "    \n",
    "            model.eval()\n",
    "            for image, mask in val_dataloader:\n",
    "\n",
    "                mask = (mask * 255).long()\n",
    "                input = torch.cat((image, mask), dim=1).to(device)\n",
    "                output_mask = torch.argmax(model(input), dim=1)\n",
    "                output = model(input)\n",
    "                loss = F.cross_entropy(output, input[:, 3, :, :].long())\n",
    "                print(loss.item(), torch.sum(output_mask == torch.tensor(input[:, 3, :, :]).to(device)).item() / (224 * 224))\n",
    "\n",
    "                # mask_np = mask.squeeze(0).cpu().numpy().transpose(1, 2, 0)\n",
    "                # output_mask_np = output_mask.cpu().numpy().transpose(1, 2, 0)\n",
    "                # image_np = image.squeeze(0).numpy().transpose(1, 2, 0)\n",
    "                # print_images([image_np, mask_np, np.where(output_mask_np == mask_np, 1, 0)])\n",
    "    \n",
    "        if not os.path.exists(models_root):\n",
    "            os.makedirs(models_root)\n",
    "        torch.save(model.state_dict(), model_save_path)\n"
   ],
   "outputs": [],
   "execution_count": 5
  },
  {
   "metadata": {
    "ExecuteTime": {
     "end_time": "2024-04-13T15:34:27.819767Z",
     "start_time": "2024-04-13T15:29:21.239307Z"
    }
   },
   "cell_type": "code",
   "source": [
    "# train(trainval_image_root, trainval_mask_root, train_list)\n",
    "train(trainval_image_root, trainval_mask_root, val_list)\n",
    "# train(testd_image_root, testd_mask_root, test_list)"
   ],
   "id": "31dcce30045b164",
   "outputs": [
    {
     "name": "stdout",
     "output_type": "stream",
     "text": [
      "bike-packing\n",
      "Element 0 has count 363087\n",
      "Element 1 has count 30321\n",
      "Element 2 has count 43392\n",
      "type_cnt: 3\n",
      "epoch: 0\n"
     ]
    },
    {
     "name": "stderr",
     "output_type": "stream",
     "text": [
      "/home/stevenzhang/miniconda3/envs/vnn/lib/python3.10/site-packages/segmentation_models_pytorch/base/modules.py:116: UserWarning: Implicit dimension choice for softmax has been deprecated. Change the call to include dim=X as an argument.\n",
      "  return self.activation(x)\n",
      "/tmp/ipykernel_30273/894432062.py:56: UserWarning: To copy construct from a tensor, it is recommended to use sourceTensor.clone().detach() or sourceTensor.clone().detach().requires_grad_(True), rather than torch.tensor(sourceTensor).\n",
      "  print(loss.item(), torch.sum(output_mask == torch.tensor(input[:, 3, :, :]).to(device)).item() / (224 * 224))\n"
     ]
    },
    {
     "name": "stdout",
     "output_type": "stream",
     "text": [
      "0.6776339411735535 0.9025430484693877\n",
      "epoch: 1\n",
      "0.6766858696937561 0.9039979272959183\n",
      "epoch: 2\n",
      "0.6753642559051514 0.9046356823979592\n",
      "epoch: 3\n",
      "0.6757019758224487 0.9044164540816326\n",
      "epoch: 4\n",
      "0.6750971078872681 0.9060108418367347\n",
      "epoch: 5\n",
      "0.6755126714706421 0.9056122448979592\n",
      "epoch: 6\n",
      "0.6765565872192383 0.9039580676020408\n",
      "epoch: 7\n",
      "0.6755678653717041 0.9058314732142857\n",
      "epoch: 8\n",
      "0.6764638423919678 0.9041573660714286\n",
      "epoch: 9\n",
      "0.6733667850494385 0.9086615114795918\n",
      "epoch: 10\n",
      "0.6749585270881653 0.9064891581632653\n",
      "epoch: 11\n",
      "0.6751775741577148 0.9057318239795918\n",
      "epoch: 12\n",
      "0.6781514286994934 0.9023636798469388\n",
      "epoch: 13\n",
      "0.6743523478507996 0.9069076849489796\n",
      "epoch: 14\n",
      "0.674736499786377 0.9067083864795918\n",
      "epoch: 15\n",
      "0.6753599047660828 0.9055125956632653\n",
      "epoch: 16\n",
      "0.6752889156341553 0.9055923150510204\n",
      "epoch: 17\n",
      "0.6765099167823792 0.9037388392857143\n",
      "epoch: 18\n",
      "0.6757300496101379 0.9045758928571429\n",
      "epoch: 19\n",
      "0.6751980781555176 0.9057517538265306\n"
     ]
    }
   ],
   "execution_count": 6
  }
 ],
 "metadata": {
  "kernelspec": {
   "display_name": "Python (cs5340)",
   "language": "python",
   "name": "cs5340"
  },
  "language_info": {
   "codemirror_mode": {
    "name": "ipython",
    "version": 3
   },
   "file_extension": ".py",
   "mimetype": "text/x-python",
   "name": "python",
   "nbconvert_exporter": "python",
   "pygments_lexer": "ipython3",
   "version": "3.8.10"
  }
 },
 "nbformat": 4,
 "nbformat_minor": 5
}

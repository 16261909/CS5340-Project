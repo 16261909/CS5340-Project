{
 "cells": [
  {
   "metadata": {
    "ExecuteTime": {
     "end_time": "2024-04-13T11:42:45.394119Z",
     "start_time": "2024-04-13T11:42:45.390160Z"
    }
   },
   "cell_type": "code",
   "source": [
    "%load_ext autoreload\n",
    "%autoreload 1"
   ],
   "id": "eac6ac36111d2c2a",
   "outputs": [
    {
     "name": "stdout",
     "output_type": "stream",
     "text": [
      "The autoreload extension is already loaded. To reload it, use:\n",
      "  %reload_ext autoreload\n"
     ]
    }
   ],
   "execution_count": 6
  },
  {
   "metadata": {
    "ExecuteTime": {
     "end_time": "2024-04-13T11:42:45.414531Z",
     "start_time": "2024-04-13T11:42:45.405093Z"
    }
   },
   "cell_type": "code",
   "source": [
    "import os\n",
    "import shutil\n",
    "from multiprocessing import Pool\n",
    "\n",
    "from tqdm import tqdm\n",
    "\n",
    "from config import *\n",
    "from mrf import *\n",
    "from utilities import *"
   ],
   "id": "ab758440cd6fae0a",
   "outputs": [],
   "execution_count": 7
  },
  {
   "metadata": {
    "ExecuteTime": {
     "end_time": "2024-04-13T11:42:45.425969Z",
     "start_time": "2024-04-13T11:42:45.415675Z"
    }
   },
   "cell_type": "code",
   "source": [
    "train_imageset_path = '../trainval/DAVIS/ImageSets/2017/train.txt'\n",
    "val_imageset_path = '../trainval/DAVIS/ImageSets/2017/val.txt'\n",
    "testd_imageset_path = '../testd/DAVIS/ImageSets/2017/test-dev.txt'\n",
    "\n",
    "train_flow_root = '../flow/trainval/'\n",
    "testd_flow_root = '../flow/test/'\n",
    "result_root = '../result/mrf/'\n",
    "train_image_root = '../trainval/DAVIS/JPEGImages/480p/'\n",
    "train_mask_root = '../trainval/DAVIS/Annotations/480p/'\n",
    "testd_image_root = '../testd/DAVIS/JPEGImages/480p/'\n",
    "testd_mask_root = '../testd/DAVIS/Annotations/480p/'\n",
    "rough_annotation_root = '../rough_annotation/osvos/'\n",
    "\n",
    "train_list = []\n",
    "val_list = []\n",
    "testd_list = []\n",
    "\n",
    "with open(train_imageset_path, 'r') as f:\n",
    "    for line in f:\n",
    "        train_list.append(line.strip())\n",
    "with open(val_imageset_path, 'r') as f:\n",
    "    for line in f:\n",
    "        val_list.append(line.strip())\n",
    "with open(testd_imageset_path, 'r') as f:\n",
    "    for line in f:\n",
    "        testd_list.append(line.strip())\n",
    "\n",
    "print(val_list)"
   ],
   "id": "654d27d4ee0d523a",
   "outputs": [
    {
     "name": "stdout",
     "output_type": "stream",
     "text": [
      "['bike-packing', 'blackswan', 'bmx-trees', 'breakdance', 'camel', 'car-roundabout', 'car-shadow', 'cows', 'dance-twirl', 'dog', 'dogs-jump', 'drift-chicane', 'drift-straight', 'goat', 'gold-fish', 'horsejump-high', 'india', 'judo', 'kite-surf', 'lab-coat', 'libby', 'loading', 'mbike-trick', 'motocross-jump', 'paragliding-launch', 'parkour', 'pigs', 'scooter-black', 'shooting', 'soapbox']\n"
     ]
    }
   ],
   "execution_count": 8
  },
  {
   "metadata": {
    "ExecuteTime": {
     "end_time": "2024-04-13T11:42:45.440463Z",
     "start_time": "2024-04-13T11:42:45.426774Z"
    }
   },
   "cell_type": "code",
   "source": [
    "def compute_energy(task):\n",
    "    t, x, y, k = task\n",
    "    return energy(mask, osvos_mask, t, x, y, k)"
   ],
   "id": "1212cc3ae7a89e4d",
   "outputs": [],
   "execution_count": 9
  },
  {
   "metadata": {
    "ExecuteTime": {
     "end_time": "2024-04-13T11:43:10.575760Z",
     "start_time": "2024-04-13T11:42:45.441422Z"
    }
   },
   "cell_type": "code",
   "source": [
    "for p in range(len(val_list)):\n",
    "    if p != 15:\n",
    "        continue\n",
    "    image_path = os.path.join(train_image_root, val_list[p])\n",
    "    mask_path = os.path.join(train_mask_root, val_list[p] + '/00000.png')\n",
    "    osvos_path = os.path.join(rough_annotation_root, val_list[p])\n",
    "    result_path = os.path.join(result_root, val_list[p])\n",
    "    flow_path = os.path.join(train_flow_root, val_list[p])\n",
    "\n",
    "    image_list = sorted(os.listdir(image_path))\n",
    "    image_list = image_list[:10]\n",
    "    mask = cv2.imread(mask_path)\n",
    "\n",
    "    mask = np.expand_dims(mask, axis=0)\n",
    "    mask = np.tile(mask, (len(image_list), 1, 1, 1))\n",
    "    imgs = np.zeros_like(mask)\n",
    "    osvos_mask = np.zeros_like(mask)\n",
    "    mask, color_to_gray_map, gray_to_color_map = convert_to_gray_mask(mask)\n",
    "    gray_imgs = np.zeros_like(mask)\n",
    "\n",
    "    type_cnt = len(color_to_gray_map)\n",
    "    print('type_cnt:', type_cnt)\n",
    "    # TODO: type_cnt > 2\n",
    "\n",
    "    for i in range(len(image_list)):\n",
    "        osvos_mask[i] = cv2.imread(os.path.join(osvos_path, f\"{i:05d}.png\"))\n",
    "\n",
    "    osvos_mask, _, _ = convert_to_gray_mask(osvos_mask)\n",
    "    osvos_mask[0] = mask[0]\n",
    "\n",
    "    resized_mask = np.zeros((mask.shape[0], Resize[1], Resize[0]))\n",
    "    resized_osvos_mask = np.zeros((mask.shape[0], Resize[1], Resize[0]))\n",
    "\n",
    "    for i in range(mask.shape[0]):\n",
    "        resized_mask[i] = cv2.resize(mask[i], Resize, interpolation=cv2.INTER_NEAREST)\n",
    "        resized_osvos_mask[i] = cv2.resize(osvos_mask[i], Resize, interpolation=cv2.INTER_NEAREST)\n",
    "\n",
    "    mask = resized_mask\n",
    "    osvos_mask = resized_osvos_mask\n",
    "    flo = np.zeros_like(mask)\n",
    "    flo = np.tile(np.expand_dims(flo, axis=-1), (1, 1, 1, 2))\n",
    "    del resized_mask, resized_osvos_mask\n",
    "\n",
    "    resized_imgs = np.zeros((mask.shape[0], Resize[1], Resize[0], 3), dtype=np.uint8)\n",
    "    for i in range(len(image_list)):\n",
    "        cv2.imread(os.path.join(image_path, f\"{i:05d}.jpg\"))\n",
    "        imgs[i] = cv2.imread(os.path.join(image_path, f\"{i:05d}.jpg\"))\n",
    "        imgs[i] = cv2.cvtColor(imgs[i], cv2.COLOR_BGR2RGB)\n",
    "\n",
    "    print(imgs[i].shape)\n",
    "\n",
    "    for i in range(len(image_list)):\n",
    "        resized_imgs[i] = cv2.resize(imgs[i], Resize, interpolation=cv2.INTER_NEAREST)\n",
    "\n",
    "    imgs = resized_imgs\n",
    "    del resized_imgs\n",
    "    gray_imgs = np.zeros((mask.shape[0], Resize[1], Resize[0]), dtype=np.uint8)\n",
    "\n",
    "    for i in range(len(image_list)):\n",
    "        gray_imgs[i] = cv2.cvtColor(imgs[i], cv2.COLOR_RGB2GRAY)\n",
    "\n",
    "    for i in range(len(image_list) - 1):\n",
    "        flo[i] = cv2.calcOpticalFlowFarneback(gray_imgs[i], gray_imgs[i + 1], None, 0.5, 3, 15, 3, 5, 1.2, 0)\n",
    "\n",
    "    norm = np.linalg.norm(flo, axis=-1)\n",
    "    print(norm.max(), norm.mean(), norm.var())\n",
    "    flo = filter_unreliable_flow(flo)\n",
    "    norm = np.linalg.norm(flo, axis=-1)\n",
    "    print(norm.max(), norm.mean(), norm.var())\n",
    "\n",
    "    init(flo, mask)\n",
    "\n",
    "    print('Start ICM...')\n",
    "\n",
    "    for i in tqdm(range(ICM_iter)):\n",
    "        tasks = [(t, x, y, k) for t in range(len(image_list)) for x in range(mask.shape[1]) for y in\n",
    "                 range(mask.shape[2]) for k in range(type_cnt)]\n",
    "        with Pool() as pool:\n",
    "            e_results = np.array(list(pool.map(compute_energy, tasks)))\n",
    "        e_results = np.array(e_results).reshape((len(image_list), mask.shape[1], mask.shape[2], type_cnt))\n",
    "        mask = np.argmin(e_results, axis=-1)\n",
    "    \n",
    "    print('ICM done')\n",
    "    \n",
    "    # write\n",
    "    if os.path.exists(result_path):\n",
    "        shutil.rmtree(result_path)\n",
    "    os.makedirs(result_path)\n",
    "    \n",
    "    resized_mask = np.zeros((mask.shape[0], OriginalSize[1], OriginalSize[0]))\n",
    "    for i in range(len(image_list)):\n",
    "        resized_mask[i] = cv2.resize(mask[i], OriginalSize, interpolation=cv2.INTER_NEAREST)\n",
    "    \n",
    "    for i in range(len(image_list)):\n",
    "        result_i_path = result_path + f\"/{i:05d}.png\"\n",
    "        cv2.imwrite(result_i_path, restore_color_mask(resized_mask[i], gray_to_color_map))\n",
    "    \n",
    "    del resized_mask\n",
    "    \n",
    "    break\n"
   ],
   "id": "b3b7c2acad819274",
   "outputs": [
    {
     "name": "stdout",
     "output_type": "stream",
     "text": [
      "type_cnt: 3\n",
      "(480, 854, 3)\n",
      "9.75387896024259 2.1221505112863 1.7667939514830064\n",
      "5.397999285277433 1.8829396540998464 1.1169505493136194\n",
      "Start ICM...\n"
     ]
    },
    {
     "name": "stderr",
     "output_type": "stream",
     "text": [
      "100%|██████████| 5/5 [00:11<00:00,  2.24s/it]\n"
     ]
    },
    {
     "name": "stdout",
     "output_type": "stream",
     "text": [
      "ICM done\n"
     ]
    }
   ],
   "execution_count": 10
  }
 ],
 "metadata": {
  "kernelspec": {
   "display_name": "Python (cs5340)",
   "language": "python",
   "name": "cs5340"
  },
  "language_info": {
   "codemirror_mode": {
    "name": "ipython",
    "version": 2
   },
   "file_extension": ".py",
   "mimetype": "text/x-python",
   "name": "python",
   "nbconvert_exporter": "python",
   "pygments_lexer": "ipython2",
   "version": "2.7.6"
  }
 },
 "nbformat": 4,
 "nbformat_minor": 5
}

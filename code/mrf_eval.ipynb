{
 "cells": [
  {
   "metadata": {},
   "cell_type": "code",
   "source": [
    "%load_ext autoreload\n",
    "%autoreload 1"
   ],
   "id": "eac6ac36111d2c2a",
   "outputs": [],
   "execution_count": 1
  },
  {
   "metadata": {
    "ExecuteTime": {
     "end_time": "2024-04-13T19:17:57.771192Z",
     "start_time": "2024-04-13T19:17:56.442612Z"
    }
   },
   "cell_type": "code",
   "source": [
    "import os\n",
    "import shutil\n",
    "from multiprocessing import Pool\n",
    "\n",
    "import cv2\n",
    "import numpy as np\n",
    "from PIL import Image\n",
    "from tqdm import tqdm\n",
    "import torch\n",
    "\n",
    "from config import *\n",
    "from utilities import *\n",
    "from resnet import MyResNet"
   ],
   "id": "ab758440cd6fae0a",
   "outputs": [],
   "execution_count": 2
  },
  {
   "metadata": {
    "ExecuteTime": {
     "end_time": "2024-04-13T19:17:57.775914Z",
     "start_time": "2024-04-13T19:17:57.771954Z"
    }
   },
   "cell_type": "code",
   "source": [
    "train_imageset_path = '../trainval/DAVIS/ImageSets/2017/train.txt'\n",
    "val_imageset_path = '../trainval/DAVIS/ImageSets/2017/val.txt'\n",
    "testd_imageset_path = '../testd/DAVIS/ImageSets/2017/test-dev.txt'\n",
    "\n",
    "train_flow_root = '../flow/trainval/'\n",
    "testd_flow_root = '../flow/test/'\n",
    "result_root = '../result/mrf/'\n",
    "trainval_image_root = '../trainval/DAVIS/JPEGImages/480p/'\n",
    "trainval_mask_root = '../trainval/DAVIS/Annotations/480p/'\n",
    "testd_image_root = '../testd/DAVIS/JPEGImages/480p/'\n",
    "testd_mask_root = '../testd/DAVIS/Annotations/480p/'\n",
    "rough_annotation_root = '../rough_annotation/osvos/'\n",
    "models_root = '../models/'\n",
    "gif_root = '../gif/'\n",
    "\n",
    "train_list = []\n",
    "val_list = []\n",
    "testd_list = []\n",
    "\n",
    "with open(train_imageset_path, 'r') as f:\n",
    "    for line in f:\n",
    "        train_list.append(line.strip())\n",
    "with open(val_imageset_path, 'r') as f:\n",
    "    for line in f:\n",
    "        val_list.append(line.strip())\n",
    "with open(testd_imageset_path, 'r') as f:\n",
    "    for line in f:\n",
    "        testd_list.append(line.strip())\n",
    "\n",
    "print(val_list)\n",
    "\n",
    "precomputed_positions = None\n",
    "mask = None\n",
    "osvos_mask = None\n",
    "flo = None\n",
    "imgs = None\n",
    "gray_imgs = None\n",
    "cnn_mask = None\n",
    "model = None\n",
    "color_to_gray_map = {}\n",
    "gray_to_color_map = {}"
   ],
   "id": "654d27d4ee0d523a",
   "outputs": [
    {
     "name": "stdout",
     "output_type": "stream",
     "text": [
      "['bike-packing', 'blackswan', 'bmx-trees', 'breakdance', 'camel', 'car-roundabout', 'car-shadow', 'cows', 'dance-twirl', 'dog', 'dogs-jump', 'drift-chicane', 'drift-straight', 'goat', 'gold-fish', 'horsejump-high', 'india', 'judo', 'kite-surf', 'lab-coat', 'libby', 'loading', 'mbike-trick', 'motocross-jump', 'paragliding-launch', 'parkour', 'pigs', 'scooter-black', 'shooting', 'soapbox']\n"
     ]
    }
   ],
   "execution_count": 3
  },
  {
   "metadata": {
    "ExecuteTime": {
     "end_time": "2024-04-13T19:17:57.801372Z",
     "start_time": "2024-04-13T19:17:57.776526Z"
    }
   },
   "cell_type": "code",
   "source": [
    "def get_positions( pos, t):\n",
    "    \n",
    "    global precomputed_positions\n",
    "    \n",
    "    if (precomputed_positions[t, pos[0], pos[1]] != not_calculated_err).all():\n",
    "        return precomputed_positions[t, pos[0], pos[1], 0], precomputed_positions[t, pos[0], pos[1], 1]\n",
    "\n",
    "    # [-flow_range, -flow_range + 1, ..., -1, 1, ..., flow_range - 1, flow_range]\n",
    "    precomputed_positions[t, pos[0], pos[1], 0] = np.full((flow_range, 2), out_of_range_err)\n",
    "    precomputed_positions[t, pos[0], pos[1], 1] = np.full((flow_range, 2), out_of_range_err)\n",
    "    cur_pos = list(pos)\n",
    "    # Loop from 0 to flow_range\n",
    "    for offset in range(min(flow_range, precomputed_positions.shape[0] - t - 1)):\n",
    "        flow = flo[t + offset]\n",
    "        dx, dy = flow[cur_pos[0], cur_pos[1]]\n",
    "        cur_pos = [round(cur_pos[0] + dx), round(cur_pos[1] + dy)]\n",
    "        if cur_pos[0] < 0 or cur_pos[0] >= flo.shape[1] or cur_pos[1] < 0 or cur_pos[1] >= flo.shape[2]:\n",
    "            break\n",
    "        precomputed_positions[t, pos[0], pos[1], 1, offset] = [cur_pos[0], cur_pos[1]]\n",
    "        precomputed_positions[t + offset + 1, cur_pos[0], cur_pos[1], 0, offset] = [pos[0], pos[1]]\n",
    "\n",
    "    cur_pos = list(pos)\n",
    "    # Loop from 0 to -flow_range\n",
    "    for offset in range(min(flow_range, t - 1)):\n",
    "        flow = flo[t - offset]\n",
    "        dx, dy = flow[cur_pos[0], cur_pos[1]]\n",
    "        cur_pos = [round(cur_pos[0] - dx), round(cur_pos[1] - dy)]\n",
    "        if cur_pos[0] < 0 or cur_pos[0] >= flo.shape[1] or cur_pos[1] < 0 or cur_pos[1] >= flo.shape[2]:\n",
    "            break\n",
    "        precomputed_positions[t, pos[0], pos[1], 0, offset] = [cur_pos[0], cur_pos[1]]\n",
    "        precomputed_positions[t - offset - 1, cur_pos[0], cur_pos[1], 1, offset] = [pos[0], pos[1]]\n",
    "\n",
    "    return precomputed_positions[t, pos[0], pos[1], 0], precomputed_positions[t, pos[0], pos[1], 1]"
   ],
   "id": "5b122f66751d4131",
   "outputs": [],
   "execution_count": 4
  },
  {
   "metadata": {
    "ExecuteTime": {
     "end_time": "2024-04-13T19:17:57.817069Z",
     "start_time": "2024-04-13T19:17:57.803155Z"
    }
   },
   "cell_type": "code",
   "source": [
    "def energy(args):\n",
    "    t, x, y, value = args\n",
    "\n",
    "    global mask, osvos_mask, precomputed_positions, cnn_mask\n",
    "\n",
    "    if precomputed_positions is None:\n",
    "        raise ValueError(\"precomputed_positions must be initialized before calling this function.\")\n",
    "\n",
    "    idx = (t, x, y)\n",
    "    e_u, e_t, e_s = 0, 0, 0\n",
    "\n",
    "    e_u += -log_e_u_false_possibility if value != osvos_mask[idx] else -log_e_u_true_possibility\n",
    "\n",
    "    # -1 -> -flow_range\n",
    "    for dt in range(min(flow_range, t - 1)):\n",
    "        if precomputed_positions[t, x, y, 0, dt, 0] == out_of_range_err:\n",
    "            break\n",
    "        # print(f'{t}, {dt}, {x}, {y}, {precomputed_positions[t, x, y, 0, dt, 0]}, {precomputed_positions[t, x, y, 0, dt, 1]}')\n",
    "        e_t += time_parameter(t - dt - 1) * time_parameter(t) * (1 if value != mask[t - dt - 1, precomputed_positions[t, x, y, 0, dt, 0], precomputed_positions[t, x, y, 0, dt, 1]] else 0) ** 2\n",
    "\n",
    "    # 1 -> flow_range\n",
    "    for dt in range(min(flow_range, mask.shape[0] - t - 1)):\n",
    "        if precomputed_positions[t, x, y, 1, dt, 0] == out_of_range_err:\n",
    "            break\n",
    "        e_t += time_parameter(t + dt + 1) * time_parameter(t) * (1 if value != mask[t + dt + 1, precomputed_positions[t, x, y, 1, dt, 0], precomputed_positions[t, x, y, 1, dt, 1]] else 0) ** 2\n",
    "        \n",
    "    e_s = (value != cnn_mask[idx]) * 1\n",
    "    \n",
    "    return theta_u * e_u + theta_t * e_t + theta_s * s_parameter(t) * e_s"
   ],
   "id": "450029434a5f3261",
   "outputs": [],
   "execution_count": 5
  },
  {
   "metadata": {
    "ExecuteTime": {
     "end_time": "2024-04-13T19:17:57.832933Z",
     "start_time": "2024-04-13T19:17:57.817951Z"
    }
   },
   "cell_type": "code",
   "source": [
    "def init():\n",
    "\n",
    "    global precomputed_positions\n",
    "\n",
    "    shape = mask.shape\n",
    "    precomputed_positions = np.empty((shape[0], shape[1], shape[2], 2, flow_range, 2), dtype=tuple)\n",
    "    precomputed_positions.fill(not_calculated_err)\n",
    "\n",
    "    for t in range(shape[0]):\n",
    "        for x in range(shape[1]):\n",
    "            for y in range(shape[2]):\n",
    "                neg_ret, pos_ret = get_positions((x, y), t)\n",
    "                precomputed_positions[t, x, y, 0] = neg_ret\n",
    "                precomputed_positions[t, x, y, 1] = pos_ret\n"
   ],
   "id": "b9c2c3116a25a853",
   "outputs": [],
   "execution_count": 6
  },
  {
   "metadata": {
    "ExecuteTime": {
     "end_time": "2024-04-13T19:17:57.843939Z",
     "start_time": "2024-04-13T19:17:57.833717Z"
    }
   },
   "cell_type": "code",
   "source": [
    "def cnn_eval():\n",
    "    global mask, cnn_mask, imgs, model\n",
    "    x = torch.tensor(np.concatenate((imgs.reshape(-1, 3, imgs.shape[1], imgs.shape[2]) / 255, np.expand_dims(mask, axis=1)), axis=1)).float().to(device)\n",
    "    \n",
    "    num_samples = len(x)\n",
    "    all_outputs = []\n",
    "    for i in range(0, num_samples, batch_size):\n",
    "        batch_x = x[i:min(i+batch_size, num_samples)].to(device)\n",
    "        batch_output = model(batch_x)\n",
    "        all_outputs.append(batch_output)\n",
    "    y = torch.cat(all_outputs, dim=0)\n",
    "    cnn_mask = np.argmax(y.cpu().detach().numpy(), axis=1).reshape(mask.shape)   "
   ],
   "id": "df969a4b260b913f",
   "outputs": [],
   "execution_count": 7
  },
  {
   "metadata": {
    "ExecuteTime": {
     "end_time": "2024-04-13T19:17:57.860845Z",
     "start_time": "2024-04-13T19:17:57.844604Z"
    }
   },
   "cell_type": "code",
   "source": [
    "\n",
    "# image_root = train_image_root\n",
    "# mask_root = train_mask_root\n",
    "# target_list = val_list\n",
    "def eval(image_root, mask_root, target_list, result_root='../result/mrf/'):\n",
    "    global mask, osvos_mask, flo, imgs, gray_imgs, cnn_mask, gray_to_color_map, color_to_gray_map, model\n",
    "    for p in range(len(target_list)):\n",
    "        image_path = os.path.join(image_root, target_list[p])\n",
    "        mask_path = os.path.join(mask_root, target_list[p] + '/00000.png')\n",
    "        osvos_path = os.path.join(rough_annotation_root, target_list[p])\n",
    "        result_path = os.path.join(result_root, target_list[p])\n",
    "        flow_path = os.path.join(train_flow_root, target_list[p])\n",
    "        model_save_path = os.path.join(models_root, target_list[p] + '.pt')\n",
    "    \n",
    "        image_list = sorted(os.listdir(image_path))\n",
    "        image_list = image_list[:]\n",
    "        mask = cv2.imread(mask_path)\n",
    "        PIL_mask = Image.open(mask_path)\n",
    "        color_to_gray_map, gray_to_color_map = get_map(mask, PIL_mask)\n",
    "        del PIL_mask\n",
    "        \n",
    "        mask = np.expand_dims(mask, axis=0)\n",
    "        mask = np.tile(mask, (len(image_list), 1, 1, 1))\n",
    "        imgs = np.zeros_like(mask)\n",
    "        osvos_mask = np.zeros_like(mask)\n",
    "        mask = convert_to_gray_mask(mask, color_to_gray_map)\n",
    "        gray_imgs = np.zeros_like(mask)\n",
    "    \n",
    "        type_cnt = len(color_to_gray_map)\n",
    "        print('type_cnt:', type_cnt)\n",
    "    \n",
    "        for i in range(len(image_list)):\n",
    "            osvos_mask[i] = cv2.imread(os.path.join(osvos_path, f\"{i:05d}.png\"))\n",
    "    \n",
    "        osvos_mask = convert_to_gray_mask(osvos_mask, color_to_gray_map)\n",
    "        osvos_mask[0] = mask[0] \n",
    "    \n",
    "        resized_osvos_mask = np.zeros((mask.shape[0], Resize[1], Resize[0]))\n",
    "    \n",
    "        for i in range(mask.shape[0]):\n",
    "            resized_osvos_mask[i] = cv2.resize(osvos_mask[i], Resize, interpolation=cv2.INTER_NEAREST)\n",
    "    \n",
    "        mask = resized_osvos_mask\n",
    "        osvos_mask = resized_osvos_mask\n",
    "        flo = np.zeros_like(mask)\n",
    "        flo = np.tile(np.expand_dims(flo, axis=-1), (1, 1, 1, 2))\n",
    "        del resized_osvos_mask\n",
    "    \n",
    "        resized_imgs = np.zeros((mask.shape[0], Resize[1], Resize[0], 3), dtype=np.uint8)\n",
    "        for i in range(len(image_list)):\n",
    "            cv2.imread(os.path.join(image_path, f\"{i:05d}.jpg\"))\n",
    "            imgs[i] = cv2.imread(os.path.join(image_path, f\"{i:05d}.jpg\"))\n",
    "            imgs[i] = cv2.cvtColor(imgs[i], cv2.COLOR_BGR2RGB)\n",
    "    \n",
    "        for i in range(len(image_list)):\n",
    "            resized_imgs[i] = cv2.resize(imgs[i], Resize, interpolation=cv2.INTER_NEAREST)\n",
    "    \n",
    "        imgs = resized_imgs\n",
    "        del resized_imgs\n",
    "        # gray_imgs = np.zeros((mask.shape[0], Resize[1], Resize[0]), dtype=np.uint8)\n",
    "    \n",
    "        # for i in range(len(image_list)):\n",
    "        #     gray_imgs[i] = cv2.cvtColor(imgs[i], cv2.COLOR_RGB2GRAY)\n",
    "    \n",
    "        for i in range(len(image_list) - 1):\n",
    "            # flo[i] = cv2.calcOpticalFlowFarneback(gray_imgs[i], gray_imgs[i + 1], None, 0.5, 3, 15, 3, 5, 1.2, 0)\n",
    "            flo[i] = resize_flo(read_flo_file(os.path.join(flow_path, f\"{i:06d}.flo\"))) \n",
    "            \n",
    "        flo = filter_unreliable_flow(flo)\n",
    "        print('Precomputing positions from optical flow...')\n",
    "        init()\n",
    "    \n",
    "        cnn_mask = np.copy(mask)\n",
    "        model = MyResNet(len(color_to_gray_map)).to(device)\n",
    "        model.load_state_dict(torch.load(model_save_path))\n",
    "        model.eval()\n",
    "        \n",
    "        for _ in range(total_iter):\n",
    "            with Pool() as pool:\n",
    "                for _ in tqdm(range(ICM_iter)):\n",
    "                    tasks = [(t, x, y, k) for t in range(len(image_list)) for x in range(mask.shape[1]) for y in\n",
    "                             range(mask.shape[2]) for k in range(type_cnt)]\n",
    "                    e_results = np.array(list(pool.map(energy, tasks)))\n",
    "                    e_results = np.array(e_results).reshape((len(image_list), mask.shape[1], mask.shape[2], type_cnt))\n",
    "                    mask = np.argmin(e_results, axis=-1)\n",
    "                    \n",
    "            cnn_eval()\n",
    "        # for o in range(mask.shape[0]):\n",
    "        #     print_images([imgs[o], mask[o], cnn_mask[o], osvos_mask[o]])\n",
    "                \n",
    "        print('ICM done')\n",
    "        \n",
    "        # write\n",
    "        if os.path.exists(result_path):\n",
    "            shutil.rmtree(result_path)\n",
    "        os.makedirs(result_path)\n",
    "        \n",
    "        resized_mask = np.zeros((mask.shape[0], OriginalSize[1], OriginalSize[0]))\n",
    "        for i in range(len(image_list)):\n",
    "            resized_mask[i] = cv2.resize(mask[i], OriginalSize, interpolation=cv2.INTER_NEAREST)\n",
    "        \n",
    "        for i in range(len(image_list)):\n",
    "            result_i_path = result_path + f\"/{i:05d}.png\"\n",
    "            cv2.imwrite(result_i_path, restore_color_mask(resized_mask[i], gray_to_color_map))\n",
    "        \n",
    "        del resized_mask\n"
   ],
   "id": "b3b7c2acad819274",
   "outputs": [],
   "execution_count": 8
  },
  {
   "metadata": {
    "jupyter": {
     "is_executing": true
    },
    "ExecuteTime": {
     "start_time": "2024-04-13T19:17:57.861480Z"
    }
   },
   "cell_type": "code",
   "source": [
    "total_iter = 1 # 3\n",
    "theta_u = 0 # 1\n",
    "theta_t = 1 # 3\n",
    "theta_s = 0 # 1.5\n",
    "eval(trainval_image_root, trainval_mask_root, val_list, '../result/mrf_t/')"
   ],
   "id": "301e95f59fc16bc2",
   "outputs": [
    {
     "name": "stdout",
     "output_type": "stream",
     "text": [
      "type_cnt: 3\n",
      "Precomputing positions from optical flow...\n"
     ]
    },
    {
     "name": "stderr",
     "output_type": "stream",
     "text": [
      "100%|██████████| 5/5 [01:32<00:00, 18.53s/it]\n",
      "/home/stevenzhang/miniconda3/envs/vnn/lib/python3.10/site-packages/segmentation_models_pytorch/base/modules.py:116: UserWarning: Implicit dimension choice for softmax has been deprecated. Change the call to include dim=X as an argument.\n",
      "  return self.activation(x)\n"
     ]
    },
    {
     "name": "stdout",
     "output_type": "stream",
     "text": [
      "ICM done\n",
      "type_cnt: 2\n",
      "Precomputing positions from optical flow...\n"
     ]
    }
   ],
   "execution_count": null
  },
  {
   "metadata": {
    "jupyter": {
     "is_executing": true
    }
   },
   "cell_type": "code",
   "source": [
    "total_iter = 3 # 3\n",
    "theta_u = 1 # 1\n",
    "theta_t = 3 # 3\n",
    "theta_s = 1.5 # 1.5\n",
    "eval(trainval_image_root, trainval_mask_root, val_list, '../result/mrf_e_t_s/')"
   ],
   "id": "7cd1843cd67705b6",
   "outputs": [],
   "execution_count": null
  },
  {
   "metadata": {
    "jupyter": {
     "is_executing": true
    }
   },
   "cell_type": "code",
   "source": [
    "total_iter = 1 # 3\n",
    "theta_u = 1 # 1\n",
    "theta_t = 3 # 3\n",
    "theta_s = 1.5 # 1.5\n",
    "eval(trainval_image_root, trainval_mask_root, val_list, '../result/mrf_e_t/')"
   ],
   "id": "316e3c8af57f0702",
   "outputs": [],
   "execution_count": null
  },
  {
   "metadata": {
    "jupyter": {
     "is_executing": true
    }
   },
   "cell_type": "code",
   "source": [
    "total_iter = 1 # 3\n",
    "theta_u = 1 # 1\n",
    "theta_t = 0 # 3\n",
    "theta_s = 0 # 1.5\n",
    "eval(trainval_image_root, trainval_mask_root, val_list, '../result/mrf_e/')"
   ],
   "id": "2169b57c636ba3e8",
   "outputs": [],
   "execution_count": null
  }
 ],
 "metadata": {
  "kernelspec": {
   "display_name": "Python (cs5340)",
   "language": "python",
   "name": "cs5340"
  },
  "language_info": {
   "codemirror_mode": {
    "name": "ipython",
    "version": 2
   },
   "file_extension": ".py",
   "mimetype": "text/x-python",
   "name": "python",
   "nbconvert_exporter": "python",
   "pygments_lexer": "ipython2",
   "version": "2.7.6"
  }
 },
 "nbformat": 4,
 "nbformat_minor": 5
}
